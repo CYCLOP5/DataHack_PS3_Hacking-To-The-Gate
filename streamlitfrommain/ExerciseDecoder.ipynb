{
 "cells": [
  {
   "cell_type": "markdown",
   "id": "d602e75d",
   "metadata": {},
   "source": []
  },
  {
   "cell_type": "code",
   "execution_count": 3,
   "id": "2d97e5ec",
   "metadata": {},
   "outputs": [
    {
     "name": "stderr",
     "output_type": "stream",
     "text": [
      "2023-10-29 05:18:02.320984: I tensorflow/tsl/cuda/cudart_stub.cc:28] Could not find cuda drivers on your machine, GPU will not be used.\n",
      "2023-10-29 05:18:02.361952: E tensorflow/compiler/xla/stream_executor/cuda/cuda_dnn.cc:9342] Unable to register cuDNN factory: Attempting to register factory for plugin cuDNN when one has already been registered\n",
      "2023-10-29 05:18:02.361987: E tensorflow/compiler/xla/stream_executor/cuda/cuda_fft.cc:609] Unable to register cuFFT factory: Attempting to register factory for plugin cuFFT when one has already been registered\n",
      "2023-10-29 05:18:02.362013: E tensorflow/compiler/xla/stream_executor/cuda/cuda_blas.cc:1518] Unable to register cuBLAS factory: Attempting to register factory for plugin cuBLAS when one has already been registered\n",
      "2023-10-29 05:18:02.368887: I tensorflow/tsl/cuda/cudart_stub.cc:28] Could not find cuda drivers on your machine, GPU will not be used.\n",
      "2023-10-29 05:18:02.369352: I tensorflow/core/platform/cpu_feature_guard.cc:182] This TensorFlow binary is optimized to use available CPU instructions in performance-critical operations.\n",
      "To enable the following instructions: AVX2 FMA, in other operations, rebuild TensorFlow with the appropriate compiler flags.\n",
      "2023-10-29 05:18:03.432675: W tensorflow/compiler/tf2tensorrt/utils/py_utils.cc:38] TF-TRT Warning: Could not find TensorRT\n"
     ]
    }
   ],
   "source": [
    "import cv2\n",
    "import numpy as np\n",
    "import os\n",
    "from matplotlib import pyplot as plt\n",
    "import time\n",
    "import mediapipe as mp\n",
    "import tensorflow as tf\n",
    "import math\n",
    "\n",
    "from sklearn.model_selection import train_test_split\n",
    "from sklearn.metrics import multilabel_confusion_matrix, accuracy_score, classification_report\n",
    "from tensorflow.keras.utils import to_categorical\n",
    "\n",
    "import tensorflow as tf\n",
    "from tensorflow.keras import backend as K\n",
    "from tensorflow.keras.callbacks import TensorBoard, EarlyStopping, ReduceLROnPlateau, ModelCheckpoint\n",
    "\n",
    "from tensorflow.keras.models import Sequential, Model\n",
    "\n",
    "from tensorflow.keras.layers import (LSTM, Dense, Concatenate, Attention, Dropout, Softmax,\n",
    "                                     Input, Flatten, Activation, Bidirectional, Permute, multiply, \n",
    "                                     ConvLSTM2D, MaxPooling3D, TimeDistributed, Conv2D, MaxPooling2D)\n",
    "\n",
    "from scipy import stats\n",
    "\n",
    "os.environ['TF_CPP_MIN_LOG_LEVEL'] = \"3\"\n",
    "tf.get_logger().setLevel(\"ERROR\")\n",
    "tf.autograph.set_verbosity(1)\n",
    "\n",
    "import absl.logging\n",
    "absl.logging.set_verbosity(absl.logging.ERROR)"
   ]
  },
  {
   "cell_type": "markdown",
   "id": "55f470e2",
   "metadata": {},
   "source": [
    "keyponts"
   ]
  },
  {
   "cell_type": "code",
   "execution_count": 2,
   "id": "20cde117",
   "metadata": {},
   "outputs": [],
   "source": [
    "\n",
    "mp_pose = mp.solutions.pose\n",
    "\n",
    "mp_drawing = mp.solutions.drawing_utils"
   ]
  },
  {
   "cell_type": "code",
   "execution_count": 3,
   "id": "716e9f8e",
   "metadata": {},
   "outputs": [],
   "source": [
    "def mediapipe_detection(image, model):\n",
    "    \"\"\"\n",
    "    This function detects human pose estimation keypoints from webcam footage\n",
    "    \n",
    "    \"\"\"\n",
    "    image = cv2.cvtColor(image, cv2.COLOR_BGR2RGB) \n",
    "    image.flags.writeable = False                 \n",
    "    results = model.process(image)                 \n",
    "    image.flags.writeable = True                   \n",
    "    image = cv2.cvtColor(image, cv2.COLOR_RGB2BGR) \n",
    "    return image, results"
   ]
  },
  {
   "cell_type": "code",
   "execution_count": 4,
   "id": "9bd7ba58",
   "metadata": {},
   "outputs": [],
   "source": [
    "def draw_landmarks(image, results):\n",
    "    \"\"\"\n",
    "    This function draws keypoints and landmarks detected by the human pose estimation model\n",
    "    \n",
    "    \"\"\"\n",
    "    mp_drawing.draw_landmarks(image, results.pose_landmarks, mp_pose.POSE_CONNECTIONS,\n",
    "                                mp_drawing.DrawingSpec(color=(245,117,66), thickness=2, circle_radius=2), \n",
    "                                mp_drawing.DrawingSpec(color=(245,66,230), thickness=2, circle_radius=2) \n",
    "                                 )"
   ]
  },
  {
   "cell_type": "code",
   "execution_count": 5,
   "id": "c0ebe952",
   "metadata": {},
   "outputs": [
    {
     "name": "stderr",
     "output_type": "stream",
     "text": [
      "INFO: Created TensorFlow Lite XNNPACK delegate for CPU.\n"
     ]
    }
   ],
   "source": [
    "cap = cv2.VideoCapture(3) \n",
    "HEIGHT = int(cap.get(cv2.CAP_PROP_FRAME_HEIGHT)) \n",
    "WIDTH = int(cap.get(cv2.CAP_PROP_FRAME_WIDTH)) \n",
    "FPS = int(cap.get(cv2.CAP_PROP_FPS)) \n",
    "with mp_pose.Pose(min_detection_confidence=0.5, min_tracking_confidence=0.5) as pose:\n",
    "    while cap.isOpened():\n",
    "\n",
    "        ret, frame = cap.read()\n",
    "      \n",
    "        image, results = mediapipe_detection(frame, pose)\n",
    "        \n",
    "        try:\n",
    "            landmarks = results.pose_landmarks.landmark\n",
    "        except:\n",
    "            pass\n",
    "        \n",
    "        draw_landmarks(image, results)               \n",
    "        \n",
    "        cv2.imshow('OpenCV Feed', image)\n",
    "        \n",
    "        if cv2.waitKey(10) & 0xFF == ord('q'):\n",
    "            break\n",
    "\n",
    "    cap.release()\n",
    "    cv2.destroyAllWindows()"
   ]
  },
  {
   "cell_type": "markdown",
   "id": "f9fb32f3",
   "metadata": {},
   "source": [
    "GET"
   ]
  },
  {
   "cell_type": "code",
   "execution_count": 6,
   "id": "a81823f6",
   "metadata": {},
   "outputs": [],
   "source": [
    "\n",
    "pose = []\n",
    "for res in results.pose_landmarks.landmark:\n",
    "    test = np.array([res.x, res.y, res.z, res.visibility])\n",
    "    pose.append(test)"
   ]
  },
  {
   "cell_type": "code",
   "execution_count": 7,
   "id": "cd92eee3",
   "metadata": {},
   "outputs": [],
   "source": [
    "num_landmarks = len(landmarks)\n",
    "num_values = len(test)\n",
    "num_input_values = num_landmarks*num_values"
   ]
  },
  {
   "cell_type": "code",
   "execution_count": 8,
   "id": "9dad5b8c",
   "metadata": {},
   "outputs": [],
   "source": [
    "pose = np.array([[res.x, res.y, res.z, res.visibility] for res in results.pose_landmarks.landmark]).flatten() if results.pose_landmarks else np.zeros(33*4)"
   ]
  },
  {
   "cell_type": "code",
   "execution_count": 9,
   "id": "6f4d1079",
   "metadata": {},
   "outputs": [],
   "source": [
    "def extract_keypoints(results):\n",
    "    \"\"\"\n",
    "    Processes and organizes the keypoints detected from the pose estimation model \n",
    "    to be used as inputs for the exercise decoder models\n",
    "    \n",
    "    \"\"\"\n",
    "    pose = np.array([[res.x, res.y, res.z, res.visibility] for res in results.pose_landmarks.landmark]).flatten() if results.pose_landmarks else np.zeros(33*4)\n",
    "    return pose"
   ]
  },
  {
   "cell_type": "markdown",
   "id": "03b907e8",
   "metadata": {},
   "source": [
    "data folder"
   ]
  },
  {
   "cell_type": "code",
   "execution_count": 10,
   "id": "ddcaecfd",
   "metadata": {},
   "outputs": [
    {
     "name": "stdout",
     "output_type": "stream",
     "text": [
      "/home/cyclops/Desktop/datahon/streamlitfrommain/data\n"
     ]
    }
   ],
   "source": [
    "DATA_PATH = os.path.join(os. getcwd(),'data') \n",
    "print(DATA_PATH)\n",
    "\n",
    "if not os.path.exists(DATA_PATH):\n",
    "    os.makedirs(DATA_PATH)\n",
    "\n",
    "actions = np.array(['curl', 'press', 'squat'])\n",
    "num_classes = len(actions)\n",
    "\n",
    "no_sequences = 50\n",
    "\n",
    "sequence_length = FPS*1\n",
    "\n",
    "start_folder = 101"
   ]
  },
  {
   "cell_type": "code",
   "execution_count": 11,
   "id": "fed6b275",
   "metadata": {},
   "outputs": [],
   "source": [
    "\n",
    "for action in actions:     \n",
    "    for sequence in range(start_folder,no_sequences+start_folder):\n",
    "        try: \n",
    "            os.makedirs(os.path.join(DATA_PATH, action, str(sequence)))  \n",
    "        except:\n",
    "            pass"
   ]
  },
  {
   "cell_type": "markdown",
   "id": "7622b573",
   "metadata": {},
   "source": [
    "colour inputs"
   ]
  },
  {
   "cell_type": "code",
   "execution_count": 12,
   "id": "d224561f",
   "metadata": {},
   "outputs": [],
   "source": [
    "\n",
    "colors = [(245,117,16), (117,245,16), (16,117,245)]"
   ]
  },
  {
   "cell_type": "code",
   "execution_count": 13,
   "id": "41b81490",
   "metadata": {},
   "outputs": [],
   "source": [
    "cap = cv2.VideoCapture(3)\n",
    "with mp_pose.Pose(min_detection_confidence=0.5, min_tracking_confidence=0.5) as pose:\n",
    "    for idx, action in enumerate(actions):\n",
    "        for sequence in range(start_folder, start_folder+no_sequences):\n",
    "            for frame_num in range(sequence_length):\n",
    "                ret, frame = cap.read()\n",
    "                image, results = mediapipe_detection(frame, pose)\n",
    "                try:\n",
    "                    landmarks = results.pose_landmarks.landmark\n",
    "                except:\n",
    "                    pass\n",
    "                draw_landmarks(image, results) \n",
    "                if frame_num == 0:\n",
    "                    cv2.putText(image, 'STARTING COLLECTION', (120,200), \n",
    "                            cv2.FONT_HERSHEY_SIMPLEX, 1, (0,255, 0), 4, cv2.LINE_AA)\n",
    "                    cv2.putText(image, 'Collecting {} Video # {}'.format(action, sequence), (15,30), \n",
    "                            cv2.FONT_HERSHEY_SIMPLEX, 1, (255, 255, 255), 8, cv2.LINE_AA)\n",
    "                    cv2.putText(image, 'Collecting {} Video # {}'.format(action, sequence), (15,30), \n",
    "                            cv2.FONT_HERSHEY_SIMPLEX, 1, colors[idx], 4, cv2.LINE_AA)\n",
    "                    cv2.imshow('OpenCV Feed', image)\n",
    "                    cv2.waitKey(500)\n",
    "                else: \n",
    "                    cv2.putText(image, 'Collecting {} Video # {}'.format(action, sequence), (15,30), \n",
    "                            cv2.FONT_HERSHEY_SIMPLEX, 1, (255, 255, 255), 8, cv2.LINE_AA)\n",
    "                    cv2.putText(image, 'Collecting {} Video # {}'.format(action, sequence), (15,30), \n",
    "                            cv2.FONT_HERSHEY_SIMPLEX, 1, colors[idx], 4, cv2.LINE_AA)\n",
    "                    cv2.imshow('OpenCV Feed', image)\n",
    "                keypoints = extract_keypoints(results)\n",
    "                npy_path = os.path.join(DATA_PATH, action, str(sequence), str(frame_num))\n",
    "                np.save(npy_path, keypoints)\n",
    "                if cv2.waitKey(10) & 0xFF == ord('q'):\n",
    "                    break\n",
    "    cap.release()\n",
    "    cv2.destroyAllWindows()"
   ]
  },
  {
   "cell_type": "code",
   "execution_count": 14,
   "id": "4b016129",
   "metadata": {},
   "outputs": [],
   "source": [
    "cap.release()\n",
    "cv2.destroyAllWindows()"
   ]
  },
  {
   "cell_type": "markdown",
   "id": "d01ec993",
   "metadata": {},
   "source": [
    "heatlabel map"
   ]
  },
  {
   "cell_type": "code",
   "execution_count": 15,
   "id": "cad528c8",
   "metadata": {},
   "outputs": [],
   "source": [
    "label_map = {label:num for num, label in enumerate(actions)}"
   ]
  },
  {
   "cell_type": "code",
   "execution_count": 16,
   "id": "a0add3fb",
   "metadata": {},
   "outputs": [],
   "source": [
    "\n",
    "sequences, labels = [], []\n",
    "for action in actions:\n",
    "    for sequence in np.array(os.listdir(os.path.join(DATA_PATH, action))).astype(int):\n",
    "        window = []\n",
    "        for frame_num in range(sequence_length):         \n",
    "            res = np.load(os.path.join(DATA_PATH, action, str(sequence), \"{}.npy\".format(frame_num)))\n",
    "            window.append(res)  \n",
    "            \n",
    "        sequences.append(window)\n",
    "        labels.append(label_map[action])"
   ]
  },
  {
   "cell_type": "code",
   "execution_count": 17,
   "id": "ab459ce4",
   "metadata": {},
   "outputs": [
    {
     "name": "stdout",
     "output_type": "stream",
     "text": [
      "(150, 30, 132) (150, 3)\n"
     ]
    }
   ],
   "source": [
    "\n",
    "X = np.array(sequences)\n",
    "y = to_categorical(labels).astype(int)\n",
    "print(X.shape, y.shape)"
   ]
  },
  {
   "cell_type": "code",
   "execution_count": 18,
   "id": "5ac49993",
   "metadata": {},
   "outputs": [
    {
     "name": "stdout",
     "output_type": "stream",
     "text": [
      "(135, 30, 132) (135, 3)\n"
     ]
    }
   ],
   "source": [
    "\n",
    "X_train, X_test, y_train, y_test = train_test_split(X, y, test_size=0.10, random_state=1)\n",
    "print(X_train.shape, y_train.shape)\n",
    "X_train, X_val, y_train, y_val = train_test_split(X_train, y_train, test_size=15/90, random_state=2)"
   ]
  },
  {
   "cell_type": "markdown",
   "id": "e53ae03d",
   "metadata": {},
   "source": [
    "start nerual train"
   ]
  },
  {
   "cell_type": "code",
   "execution_count": 28,
   "id": "912f3153",
   "metadata": {},
   "outputs": [],
   "source": [
    " \n",
    "es_callback = EarlyStopping(monitor='val_loss', min_delta=5e-4, patience=10, verbose=0, mode='min')\n",
    "lr_callback = ReduceLROnPlateau(monitor='val_loss', factor=0.2, patience=5, min_lr=0.00001, verbose=0, mode='min')\n",
    "chkpt_callback = ModelCheckpoint(filepath=DATA_PATH, monitor='val_loss', verbose=0, save_best_only=True, \n",
    "                                 save_weights_only=False, mode='min', save_freq=1)\n",
    "\n",
    "opt = tf.keras.optimizers.legacy.Adam(learning_rate=0.01)\n",
    "\n",
    "batch_size = 32\n",
    "max_epochs = 500"
   ]
  },
  {
   "attachments": {
    "image-2.png": {
     "image/png": "[encoded data removed]"
    }
   },
   "cell_type": "markdown",
   "id": "c1ca0cad",
   "metadata": {},
   "source": [
    "LSTM\n",
    "![image-2.png](attachment:image-2.png)"
   ]
  },
  {
   "cell_type": "code",
   "execution_count": 29,
   "id": "730f987b",
   "metadata": {},
   "outputs": [],
   "source": [
    "NAME = f\"ExerciseRecognition-LSTM-{int(time.time())}\"\n",
    "log_dir = os.path.join(os.getcwd(), 'logs', NAME,'')\n",
    "tb_callback = TensorBoard(log_dir=log_dir)\n",
    "\n",
    "callbacks = [tb_callback, es_callback, lr_callback, chkpt_callback]"
   ]
  },
  {
   "cell_type": "code",
   "execution_count": 30,
   "id": "ae7595c1",
   "metadata": {},
   "outputs": [
    {
     "name": "stdout",
     "output_type": "stream",
     "text": [
      "Model: \"sequential_1\"\n",
      "_________________________________________________________________\n",
      " Layer (type)                Output Shape              Param #   \n",
      "=================================================================\n",
      " lstm_4 (LSTM)               (None, 30, 128)           133632    \n",
      "                                                                 \n",
      " lstm_5 (LSTM)               (None, 30, 256)           394240    \n",
      "                                                                 \n",
      " lstm_6 (LSTM)               (None, 128)               197120    \n",
      "                                                                 \n",
      " dense_6 (Dense)             (None, 128)               16512     \n",
      "                                                                 \n",
      " dense_7 (Dense)             (None, 64)                8256      \n",
      "                                                                 \n",
      " dense_8 (Dense)             (None, 3)                 195       \n",
      "                                                                 \n",
      "=================================================================\n",
      "Total params: 749955 (2.86 MB)\n",
      "Trainable params: 749955 (2.86 MB)\n",
      "Non-trainable params: 0 (0.00 Byte)\n",
      "_________________________________________________________________\n",
      "None\n"
     ]
    }
   ],
   "source": [
    "lstm = Sequential()\n",
    "lstm.add(LSTM(128, return_sequences=True, activation='relu', input_shape=(sequence_length, num_input_values)))\n",
    "lstm.add(LSTM(256, return_sequences=True, activation='relu'))\n",
    "lstm.add(LSTM(128, return_sequences=False, activation='relu'))\n",
    "lstm.add(Dense(128, activation='relu'))\n",
    "lstm.add(Dense(64, activation='relu'))\n",
    "lstm.add(Dense(actions.shape[0], activation='softmax'))\n",
    "print(lstm.summary())"
   ]
  },
  {
   "cell_type": "code",
   "execution_count": 31,
   "id": "8a10e698",
   "metadata": {},
   "outputs": [
    {
     "name": "stdout",
     "output_type": "stream",
     "text": [
      "Epoch 1/500\n",
      "4/4 [==============================] - 5s 244ms/step - loss: 57883.5977 - categorical_accuracy: 0.3393 - val_loss: 212370.3438 - val_categorical_accuracy: 0.2609 - lr: 0.0100\n",
      "Epoch 2/500\n",
      "4/4 [==============================] - 0s 61ms/step - loss: 226033.2344 - categorical_accuracy: 0.3750 - val_loss: 106062.1094 - val_categorical_accuracy: 0.3913 - lr: 0.0100\n",
      "Epoch 3/500\n",
      "4/4 [==============================] - 0s 62ms/step - loss: 53097.5039 - categorical_accuracy: 0.3304 - val_loss: 2056.9082 - val_categorical_accuracy: 0.3478 - lr: 0.0100\n",
      "Epoch 4/500\n",
      "4/4 [==============================] - 0s 66ms/step - loss: 3061.5598 - categorical_accuracy: 0.2500 - val_loss: 4615.7871 - val_categorical_accuracy: 0.2609 - lr: 0.0100\n",
      "Epoch 5/500\n",
      "4/4 [==============================] - 0s 63ms/step - loss: 7236.2319 - categorical_accuracy: 0.3750 - val_loss: 31486.8262 - val_categorical_accuracy: 0.3478 - lr: 0.0100\n",
      "Epoch 6/500\n",
      "4/4 [==============================] - 0s 62ms/step - loss: 27658.9590 - categorical_accuracy: 0.2946 - val_loss: 1043.5936 - val_categorical_accuracy: 0.4348 - lr: 0.0100\n",
      "Epoch 7/500\n",
      "4/4 [==============================] - 0s 62ms/step - loss: 5575.0166 - categorical_accuracy: 0.3214 - val_loss: 4758.6323 - val_categorical_accuracy: 0.3913 - lr: 0.0100\n",
      "Epoch 8/500\n",
      "4/4 [==============================] - 0s 62ms/step - loss: 2293.9626 - categorical_accuracy: 0.3571 - val_loss: 424.1502 - val_categorical_accuracy: 0.3913 - lr: 0.0100\n",
      "Epoch 9/500\n",
      "4/4 [==============================] - 0s 70ms/step - loss: 900.1581 - categorical_accuracy: 0.3214 - val_loss: 2027.8966 - val_categorical_accuracy: 0.4783 - lr: 0.0100\n",
      "Epoch 10/500\n",
      "4/4 [==============================] - 0s 66ms/step - loss: 1286.0643 - categorical_accuracy: 0.4286 - val_loss: 1274.8368 - val_categorical_accuracy: 0.4348 - lr: 0.0100\n",
      "Epoch 11/500\n",
      "4/4 [==============================] - 0s 75ms/step - loss: 661.9771 - categorical_accuracy: 0.3661 - val_loss: 271.2469 - val_categorical_accuracy: 0.2609 - lr: 0.0100\n",
      "Epoch 12/500\n",
      "4/4 [==============================] - 0s 72ms/step - loss: 469.5731 - categorical_accuracy: 0.3571 - val_loss: 267.1420 - val_categorical_accuracy: 0.2174 - lr: 0.0100\n",
      "Epoch 13/500\n",
      "4/4 [==============================] - 0s 72ms/step - loss: 362.6143 - categorical_accuracy: 0.3750 - val_loss: 4508.0142 - val_categorical_accuracy: 0.2174 - lr: 0.0100\n",
      "Epoch 14/500\n",
      "4/4 [==============================] - 0s 71ms/step - loss: 2548.9888 - categorical_accuracy: 0.3214 - val_loss: 7309.6108 - val_categorical_accuracy: 0.0435 - lr: 0.0100\n",
      "Epoch 15/500\n",
      "4/4 [==============================] - 0s 76ms/step - loss: 8377.7207 - categorical_accuracy: 0.2589 - val_loss: 2900.5669 - val_categorical_accuracy: 0.4348 - lr: 0.0100\n",
      "Epoch 16/500\n",
      "4/4 [==============================] - 0s 74ms/step - loss: 16178.6270 - categorical_accuracy: 0.3839 - val_loss: 37832.5273 - val_categorical_accuracy: 0.2609 - lr: 0.0100\n",
      "Epoch 17/500\n",
      "4/4 [==============================] - 0s 67ms/step - loss: 16474.4883 - categorical_accuracy: 0.3661 - val_loss: 540.5101 - val_categorical_accuracy: 0.6087 - lr: 0.0100\n",
      "Epoch 18/500\n",
      "4/4 [==============================] - 0s 67ms/step - loss: 1695.9509 - categorical_accuracy: 0.3393 - val_loss: 2839.9612 - val_categorical_accuracy: 0.2609 - lr: 0.0020\n",
      "Epoch 19/500\n",
      "4/4 [==============================] - 0s 66ms/step - loss: 1869.0277 - categorical_accuracy: 0.2946 - val_loss: 1535.5598 - val_categorical_accuracy: 0.4348 - lr: 0.0020\n",
      "Epoch 20/500\n",
      "4/4 [==============================] - 0s 66ms/step - loss: 3179.5918 - categorical_accuracy: 0.3929 - val_loss: 196.4033 - val_categorical_accuracy: 0.6957 - lr: 0.0020\n",
      "Epoch 21/500\n",
      "4/4 [==============================] - 0s 63ms/step - loss: 871.0470 - categorical_accuracy: 0.3929 - val_loss: 2695.3391 - val_categorical_accuracy: 0.4783 - lr: 0.0020\n",
      "Epoch 22/500\n",
      "4/4 [==============================] - 0s 62ms/step - loss: 1938.8685 - categorical_accuracy: 0.3571 - val_loss: 3082.8679 - val_categorical_accuracy: 0.2609 - lr: 0.0020\n",
      "Epoch 23/500\n",
      "4/4 [==============================] - 0s 64ms/step - loss: 2896.9309 - categorical_accuracy: 0.4018 - val_loss: 3784.9072 - val_categorical_accuracy: 0.3043 - lr: 0.0020\n",
      "Epoch 24/500\n",
      "4/4 [==============================] - 0s 63ms/step - loss: 1578.0389 - categorical_accuracy: 0.3304 - val_loss: 1624.5699 - val_categorical_accuracy: 0.4348 - lr: 0.0020\n",
      "Epoch 25/500\n",
      "4/4 [==============================] - 0s 64ms/step - loss: 1520.0736 - categorical_accuracy: 0.4018 - val_loss: 784.5668 - val_categorical_accuracy: 0.4348 - lr: 0.0020\n",
      "Epoch 26/500\n",
      "4/4 [==============================] - 0s 64ms/step - loss: 1566.1697 - categorical_accuracy: 0.2946 - val_loss: 1681.3710 - val_categorical_accuracy: 0.3043 - lr: 4.0000e-04\n",
      "Epoch 27/500\n",
      "4/4 [==============================] - 0s 63ms/step - loss: 1355.4805 - categorical_accuracy: 0.3304 - val_loss: 1704.5034 - val_categorical_accuracy: 0.4783 - lr: 4.0000e-04\n",
      "Epoch 28/500\n",
      "4/4 [==============================] - 0s 70ms/step - loss: 1959.7059 - categorical_accuracy: 0.3393 - val_loss: 1215.8889 - val_categorical_accuracy: 0.4783 - lr: 4.0000e-04\n",
      "Epoch 29/500\n",
      "4/4 [==============================] - 0s 63ms/step - loss: 1340.2316 - categorical_accuracy: 0.3482 - val_loss: 211.8112 - val_categorical_accuracy: 0.6087 - lr: 4.0000e-04\n",
      "Epoch 30/500\n",
      "4/4 [==============================] - 0s 64ms/step - loss: 460.6439 - categorical_accuracy: 0.4375 - val_loss: 525.1666 - val_categorical_accuracy: 0.4348 - lr: 4.0000e-04\n"
     ]
    },
    {
     "data": {
      "text/plain": [
       "<keras.src.callbacks.History at 0x7f37ede32a90>"
      ]
     },
     "execution_count": 31,
     "metadata": {},
     "output_type": "execute_result"
    }
   ],
   "source": [
    "lstm.compile(optimizer=opt, loss='categorical_crossentropy', metrics=['categorical_accuracy'])\n",
    "lstm.fit(X_train, y_train, batch_size=batch_size, epochs=max_epochs, validation_data=(X_val, y_val), callbacks=callbacks)"
   ]
  },
  {
   "attachments": {
    "image.png": {
     "image/png": "[encoded data removed]"
    }
   },
   "cell_type": "markdown",
   "id": "8f58c4d8",
   "metadata": {},
   "source": [
    "ADD ATTENTION\n",
    "![image.png](attachment:image.png)"
   ]
  },
  {
   "cell_type": "code",
   "execution_count": 32,
   "id": "c6e12666",
   "metadata": {},
   "outputs": [],
   "source": [
    "NAME = f\"ExerciseRecognition-AttnLSTM-{int(time.time())}\"\n",
    "log_dir = os.path.join(os.getcwd(), 'logs', NAME,'')\n",
    "tb_callback = TensorBoard(log_dir=log_dir)\n",
    "\n",
    "callbacks = [tb_callback, es_callback, lr_callback, chkpt_callback]"
   ]
  },
  {
   "cell_type": "code",
   "execution_count": 33,
   "id": "07591dac",
   "metadata": {},
   "outputs": [],
   "source": [
    "def attention_block(inputs, time_steps):\n",
    "    a = Permute((2, 1))(inputs)\n",
    "    a = Dense(time_steps, activation='softmax')(a)\n",
    "    a_probs = Permute((2, 1), name='attention_vec')(a)\n",
    "    output_attention_mul = multiply([inputs, a_probs], name='attention_mul') \n",
    "    return output_attention_mul"
   ]
  },
  {
   "cell_type": "code",
   "execution_count": 34,
   "id": "c5c2e2e0",
   "metadata": {},
   "outputs": [
    {
     "name": "stdout",
     "output_type": "stream",
     "text": [
      "Model: \"model_1\"\n",
      "__________________________________________________________________________________________________\n",
      " Layer (type)                Output Shape                 Param #   Connected to                  \n",
      "==================================================================================================\n",
      " input_2 (InputLayer)        [(None, 30, 132)]            0         []                            \n",
      "                                                                                                  \n",
      " bidirectional_1 (Bidirecti  (None, 30, 512)              796672    ['input_2[0][0]']             \n",
      " onal)                                                                                            \n",
      "                                                                                                  \n",
      " permute_1 (Permute)         (None, 512, 30)              0         ['bidirectional_1[0][0]']     \n",
      "                                                                                                  \n",
      " dense_9 (Dense)             (None, 512, 30)              930       ['permute_1[0][0]']           \n",
      "                                                                                                  \n",
      " attention_vec (Permute)     (None, 30, 512)              0         ['dense_9[0][0]']             \n",
      "                                                                                                  \n",
      " attention_mul (Multiply)    (None, 30, 512)              0         ['bidirectional_1[0][0]',     \n",
      "                                                                     'attention_vec[0][0]']       \n",
      "                                                                                                  \n",
      " flatten_1 (Flatten)         (None, 15360)                0         ['attention_mul[0][0]']       \n",
      "                                                                                                  \n",
      " dense_10 (Dense)            (None, 512)                  7864832   ['flatten_1[0][0]']           \n",
      "                                                                                                  \n",
      " dropout_1 (Dropout)         (None, 512)                  0         ['dense_10[0][0]']            \n",
      "                                                                                                  \n",
      " dense_11 (Dense)            (None, 3)                    1539      ['dropout_1[0][0]']           \n",
      "                                                                                                  \n",
      "==================================================================================================\n",
      "Total params: 8663973 (33.05 MB)\n",
      "Trainable params: 8663973 (33.05 MB)\n",
      "Non-trainable params: 0 (0.00 Byte)\n",
      "__________________________________________________________________________________________________\n",
      "None\n"
     ]
    }
   ],
   "source": [
    "HIDDEN_UNITS = 256\n",
    "\n",
    "# Input\n",
    "inputs = Input(shape=(sequence_length, num_input_values))\n",
    "\n",
    "# Bi-LSTM\n",
    "lstm_out = Bidirectional(LSTM(HIDDEN_UNITS, return_sequences=True))(inputs)\n",
    "\n",
    "# Attention\n",
    "attention_mul = attention_block(lstm_out, sequence_length)\n",
    "attention_mul = Flatten()(attention_mul)\n",
    "\n",
    "# Fully Connected Layer\n",
    "x = Dense(2*HIDDEN_UNITS, activation='relu')(attention_mul)\n",
    "x = Dropout(0.5)(x)\n",
    "\n",
    "# Output\n",
    "x = Dense(actions.shape[0], activation='softmax')(x)\n",
    "\n",
    "# Bring it all together\n",
    "AttnLSTM = Model(inputs=[inputs], outputs=x)\n",
    "print(AttnLSTM.summary())"
   ]
  },
  {
   "cell_type": "code",
   "execution_count": 35,
   "id": "cf2f988d",
   "metadata": {},
   "outputs": [
    {
     "name": "stdout",
     "output_type": "stream",
     "text": [
      "Epoch 1/500\n",
      "4/4 [==============================] - 6s 393ms/step - loss: 1.0900 - categorical_accuracy: 0.4196 - val_loss: 1.0659 - val_categorical_accuracy: 0.8261 - lr: 8.0000e-05\n",
      "Epoch 2/500\n",
      "4/4 [==============================] - 0s 85ms/step - loss: 1.0376 - categorical_accuracy: 0.8482 - val_loss: 1.0050 - val_categorical_accuracy: 0.7826 - lr: 8.0000e-05\n",
      "Epoch 3/500\n",
      "4/4 [==============================] - 0s 86ms/step - loss: 0.9553 - categorical_accuracy: 0.8750 - val_loss: 0.9164 - val_categorical_accuracy: 0.7826 - lr: 8.0000e-05\n",
      "Epoch 4/500\n",
      "4/4 [==============================] - 0s 87ms/step - loss: 0.8219 - categorical_accuracy: 0.9196 - val_loss: 0.7670 - val_categorical_accuracy: 0.8261 - lr: 8.0000e-05\n",
      "Epoch 5/500\n",
      "4/4 [==============================] - 0s 87ms/step - loss: 0.6683 - categorical_accuracy: 0.8393 - val_loss: 0.6499 - val_categorical_accuracy: 0.7826 - lr: 8.0000e-05\n",
      "Epoch 6/500\n",
      "4/4 [==============================] - 0s 93ms/step - loss: 0.4923 - categorical_accuracy: 0.9196 - val_loss: 0.4774 - val_categorical_accuracy: 0.9565 - lr: 8.0000e-05\n",
      "Epoch 7/500\n",
      "4/4 [==============================] - 0s 95ms/step - loss: 0.3782 - categorical_accuracy: 0.9375 - val_loss: 0.4052 - val_categorical_accuracy: 0.9130 - lr: 8.0000e-05\n",
      "Epoch 8/500\n",
      "4/4 [==============================] - 0s 102ms/step - loss: 0.2749 - categorical_accuracy: 0.9554 - val_loss: 0.2946 - val_categorical_accuracy: 0.9565 - lr: 8.0000e-05\n",
      "Epoch 9/500\n",
      "4/4 [==============================] - 0s 91ms/step - loss: 0.1803 - categorical_accuracy: 0.9554 - val_loss: 0.2850 - val_categorical_accuracy: 0.9565 - lr: 8.0000e-05\n",
      "Epoch 10/500\n",
      "4/4 [==============================] - 0s 95ms/step - loss: 0.1352 - categorical_accuracy: 0.9732 - val_loss: 0.2741 - val_categorical_accuracy: 0.9565 - lr: 8.0000e-05\n",
      "Epoch 11/500\n",
      "4/4 [==============================] - 0s 89ms/step - loss: 0.1103 - categorical_accuracy: 0.9821 - val_loss: 0.2463 - val_categorical_accuracy: 0.9565 - lr: 8.0000e-05\n",
      "Epoch 12/500\n",
      "4/4 [==============================] - 0s 91ms/step - loss: 0.0831 - categorical_accuracy: 0.9821 - val_loss: 0.2263 - val_categorical_accuracy: 0.9565 - lr: 8.0000e-05\n",
      "Epoch 13/500\n",
      "4/4 [==============================] - 0s 100ms/step - loss: 0.0868 - categorical_accuracy: 0.9821 - val_loss: 0.2397 - val_categorical_accuracy: 0.9565 - lr: 8.0000e-05\n",
      "Epoch 14/500\n",
      "4/4 [==============================] - 0s 89ms/step - loss: 0.0714 - categorical_accuracy: 0.9911 - val_loss: 0.2596 - val_categorical_accuracy: 0.9565 - lr: 8.0000e-05\n",
      "Epoch 15/500\n",
      "4/4 [==============================] - 0s 89ms/step - loss: 0.0825 - categorical_accuracy: 0.9911 - val_loss: 0.2456 - val_categorical_accuracy: 0.9565 - lr: 8.0000e-05\n",
      "Epoch 16/500\n",
      "4/4 [==============================] - 0s 88ms/step - loss: 0.0824 - categorical_accuracy: 0.9911 - val_loss: 0.2223 - val_categorical_accuracy: 0.9565 - lr: 8.0000e-05\n",
      "Epoch 17/500\n",
      "4/4 [==============================] - 0s 87ms/step - loss: 0.0739 - categorical_accuracy: 0.9911 - val_loss: 0.2124 - val_categorical_accuracy: 0.9565 - lr: 8.0000e-05\n",
      "Epoch 18/500\n",
      "4/4 [==============================] - 0s 86ms/step - loss: 0.0701 - categorical_accuracy: 0.9911 - val_loss: 0.2281 - val_categorical_accuracy: 0.9565 - lr: 8.0000e-05\n",
      "Epoch 19/500\n",
      "4/4 [==============================] - 0s 92ms/step - loss: 0.0713 - categorical_accuracy: 0.9911 - val_loss: 0.2448 - val_categorical_accuracy: 0.9565 - lr: 8.0000e-05\n",
      "Epoch 20/500\n",
      "4/4 [==============================] - 0s 87ms/step - loss: 0.0716 - categorical_accuracy: 0.9911 - val_loss: 0.1784 - val_categorical_accuracy: 0.9565 - lr: 8.0000e-05\n",
      "Epoch 21/500\n",
      "4/4 [==============================] - 0s 88ms/step - loss: 0.0791 - categorical_accuracy: 0.9911 - val_loss: 0.1993 - val_categorical_accuracy: 0.9565 - lr: 8.0000e-05\n",
      "Epoch 22/500\n",
      "4/4 [==============================] - 0s 87ms/step - loss: 0.0515 - categorical_accuracy: 0.9911 - val_loss: 0.3174 - val_categorical_accuracy: 0.9130 - lr: 8.0000e-05\n",
      "Epoch 23/500\n",
      "4/4 [==============================] - 0s 86ms/step - loss: 0.0686 - categorical_accuracy: 0.9911 - val_loss: 0.3188 - val_categorical_accuracy: 0.9565 - lr: 8.0000e-05\n",
      "Epoch 24/500\n",
      "4/4 [==============================] - 0s 89ms/step - loss: 0.0694 - categorical_accuracy: 0.9911 - val_loss: 0.2341 - val_categorical_accuracy: 0.9565 - lr: 8.0000e-05\n",
      "Epoch 25/500\n",
      "4/4 [==============================] - 0s 88ms/step - loss: 0.0493 - categorical_accuracy: 0.9911 - val_loss: 0.1805 - val_categorical_accuracy: 0.9565 - lr: 8.0000e-05\n",
      "Epoch 26/500\n",
      "4/4 [==============================] - 0s 90ms/step - loss: 0.0597 - categorical_accuracy: 0.9911 - val_loss: 0.1798 - val_categorical_accuracy: 0.9565 - lr: 1.6000e-05\n",
      "Epoch 27/500\n",
      "4/4 [==============================] - 0s 88ms/step - loss: 0.0525 - categorical_accuracy: 0.9911 - val_loss: 0.1828 - val_categorical_accuracy: 0.9565 - lr: 1.6000e-05\n",
      "Epoch 28/500\n",
      "4/4 [==============================] - 0s 87ms/step - loss: 0.0451 - categorical_accuracy: 0.9911 - val_loss: 0.1870 - val_categorical_accuracy: 0.9565 - lr: 1.6000e-05\n",
      "Epoch 29/500\n",
      "4/4 [==============================] - 0s 89ms/step - loss: 0.0500 - categorical_accuracy: 0.9911 - val_loss: 0.1974 - val_categorical_accuracy: 0.9565 - lr: 1.6000e-05\n",
      "Epoch 30/500\n",
      "4/4 [==============================] - 0s 88ms/step - loss: 0.0456 - categorical_accuracy: 0.9911 - val_loss: 0.2078 - val_categorical_accuracy: 0.9565 - lr: 1.6000e-05\n"
     ]
    },
    {
     "data": {
      "text/plain": [
       "<keras.src.callbacks.History at 0x7f37b31aff90>"
      ]
     },
     "execution_count": 35,
     "metadata": {},
     "output_type": "execute_result"
    }
   ],
   "source": [
    "AttnLSTM.compile(optimizer=opt, loss='categorical_crossentropy', metrics=['categorical_accuracy'])\n",
    "AttnLSTM.fit(X_train, y_train, batch_size=batch_size, epochs=max_epochs, validation_data=(X_val, y_val), callbacks=callbacks)"
   ]
  },
  {
   "cell_type": "code",
   "execution_count": 36,
   "id": "b89f67cf",
   "metadata": {},
   "outputs": [],
   "source": [
    "\n",
    "models = {\n",
    "    'LSTM': lstm, \n",
    "    'LSTM_Attention_128HUs': AttnLSTM, \n",
    "}"
   ]
  },
  {
   "cell_type": "markdown",
   "id": "a928f612",
   "metadata": {},
   "source": [
    "save weight"
   ]
  },
  {
   "cell_type": "code",
   "execution_count": 37,
   "id": "0a7647ad",
   "metadata": {},
   "outputs": [
    {
     "name": "stderr",
     "output_type": "stream",
     "text": [
      "/home/cyclops/Desktop/datahon/env/lib/python3.11/site-packages/keras/src/engine/training.py:3079: UserWarning: You are saving your model as an HDF5 file via `model.save()`. This file format is considered legacy. We recommend using instead the native Keras format, e.g. `model.save('my_model.keras')`.\n",
      "  saving_api.save_model(\n"
     ]
    }
   ],
   "source": [
    "for model_name, model in models.items():\n",
    "    save_dir = os.path.join(os.getcwd(), f\"{model_name}.h5\")\n",
    "    model.save(save_dir)"
   ]
  },
  {
   "cell_type": "markdown",
   "id": "13fecf26",
   "metadata": {},
   "source": [
    "load"
   ]
  },
  {
   "cell_type": "code",
   "execution_count": 38,
   "id": "ed0114a6",
   "metadata": {},
   "outputs": [],
   "source": [
    "# for some reason youtube said to this \n",
    "for model_name, model in models.items():\n",
    "    load_dir = os.path.join(os.getcwd(), f\"{model_name}.h5\")\n",
    "    model.load_weights(load_dir)"
   ]
  },
  {
   "cell_type": "markdown",
   "id": "1b7747c6",
   "metadata": {},
   "source": [
    "make prediction test"
   ]
  },
  {
   "cell_type": "code",
   "execution_count": 39,
   "id": "2101a592",
   "metadata": {},
   "outputs": [],
   "source": [
    "for model in models.values():\n",
    "    res = model.predict(X_test, verbose=0)   "
   ]
  },
  {
   "attachments": {
    "image.png": {
     "image/png": "[encoded data removed]"
    }
   },
   "cell_type": "markdown",
   "id": "6b36c98e",
   "metadata": {},
   "source": [
    "confusion mattrix ++ accuracy\n",
    "![image.png](attachment:image.png)"
   ]
  },
  {
   "cell_type": "code",
   "execution_count": 40,
   "id": "ecf242d9",
   "metadata": {},
   "outputs": [],
   "source": [
    "eval_results = {}\n",
    "eval_results['confusion matrix'] = None\n",
    "eval_results['accuracy'] = None\n",
    "eval_results['precision'] = None\n",
    "eval_results['recall'] = None\n",
    "eval_results['f1 score'] = None\n",
    "\n",
    "confusion_matrices = {}\n",
    "classification_accuracies = {}   \n",
    "precisions = {}\n",
    "recalls = {}\n",
    "f1_scores = {} "
   ]
  },
  {
   "attachments": {
    "image.png": {
     "image/png": "[encoded data removed]"
    }
   },
   "cell_type": "markdown",
   "id": "74d6778f",
   "metadata": {},
   "source": [
    "full confusion matrix \n",
    "![image.png](attachment:image.png)"
   ]
  },
  {
   "cell_type": "code",
   "execution_count": 41,
   "id": "fccbb90f",
   "metadata": {},
   "outputs": [
    {
     "name": "stdout",
     "output_type": "stream",
     "text": [
      "LSTM confusion matrix: \n",
      "[[[ 0 10]\n",
      "  [ 0  5]]\n",
      "\n",
      " [[ 9  0]\n",
      "  [ 6  0]]\n",
      "\n",
      " [[11  0]\n",
      "  [ 4  0]]]\n",
      "LSTM_Attention_128HUs confusion matrix: \n",
      "[[[10  0]\n",
      "  [ 0  5]]\n",
      "\n",
      " [[ 9  0]\n",
      "  [ 1  5]]\n",
      "\n",
      " [[10  1]\n",
      "  [ 0  4]]]\n"
     ]
    }
   ],
   "source": [
    "for model_name, model in models.items():\n",
    "    yhat = model.predict(X_test, verbose=0)\n",
    "    \n",
    "    ytrue = np.argmax(y_test, axis=1).tolist()\n",
    "    yhat = np.argmax(yhat, axis=1).tolist()\n",
    "    \n",
    "    confusion_matrices[model_name] = multilabel_confusion_matrix(ytrue, yhat)\n",
    "    print(f\"{model_name} confusion matrix: {os.linesep}{confusion_matrices[model_name]}\")\n",
    "\n",
    "eval_results['confusion matrix'] = confusion_matrices"
   ]
  },
  {
   "cell_type": "markdown",
   "id": "b76c6dc5",
   "metadata": {},
   "source": [
    "accuracy"
   ]
  },
  {
   "cell_type": "code",
   "execution_count": 42,
   "id": "e36146f5",
   "metadata": {},
   "outputs": [
    {
     "name": "stdout",
     "output_type": "stream",
     "text": [
      "LSTM classification accuracy = 33.333%\n",
      "LSTM_Attention_128HUs classification accuracy = 93.333%\n"
     ]
    }
   ],
   "source": [
    "for model_name, model in models.items():\n",
    "    yhat = model.predict(X_test, verbose=0)\n",
    "    \n",
    "    ytrue = np.argmax(y_test, axis=1).tolist()\n",
    "    yhat = np.argmax(yhat, axis=1).tolist()\n",
    "    \n",
    "    classification_accuracies[model_name] = accuracy_score(ytrue, yhat)    \n",
    "    print(f\"{model_name} classification accuracy = {round(classification_accuracies[model_name]*100,3)}%\")\n",
    "\n",
    "eval_results['accuracy'] = classification_accuracies"
   ]
  },
  {
   "cell_type": "code",
   "execution_count": 43,
   "id": "35067c48",
   "metadata": {},
   "outputs": [
    {
     "name": "stdout",
     "output_type": "stream",
     "text": [
      "LSTM weighted average precision = 0.111\n",
      "LSTM weighted average recall = 0.333\n",
      "LSTM weighted average f1-score = 0.167\n",
      "\n",
      "LSTM_Attention_128HUs weighted average precision = 0.947\n",
      "LSTM_Attention_128HUs weighted average recall = 0.933\n",
      "LSTM_Attention_128HUs weighted average f1-score = 0.934\n",
      "\n"
     ]
    },
    {
     "name": "stderr",
     "output_type": "stream",
     "text": [
      "/home/cyclops/Desktop/datahon/env/lib/python3.11/site-packages/sklearn/metrics/_classification.py:1471: UndefinedMetricWarning: Precision and F-score are ill-defined and being set to 0.0 in labels with no predicted samples. Use `zero_division` parameter to control this behavior.\n",
      "  _warn_prf(average, modifier, msg_start, len(result))\n",
      "/home/cyclops/Desktop/datahon/env/lib/python3.11/site-packages/sklearn/metrics/_classification.py:1471: UndefinedMetricWarning: Precision and F-score are ill-defined and being set to 0.0 in labels with no predicted samples. Use `zero_division` parameter to control this behavior.\n",
      "  _warn_prf(average, modifier, msg_start, len(result))\n",
      "/home/cyclops/Desktop/datahon/env/lib/python3.11/site-packages/sklearn/metrics/_classification.py:1471: UndefinedMetricWarning: Precision and F-score are ill-defined and being set to 0.0 in labels with no predicted samples. Use `zero_division` parameter to control this behavior.\n",
      "  _warn_prf(average, modifier, msg_start, len(result))\n"
     ]
    }
   ],
   "source": [
    "for model_name, model in models.items():\n",
    "    yhat = model.predict(X_test, verbose=0)\n",
    "    \n",
    "    ytrue = np.argmax(y_test, axis=1).tolist()\n",
    "    yhat = np.argmax(yhat, axis=1).tolist()\n",
    "    \n",
    "    report = classification_report(ytrue, yhat, target_names=actions, output_dict=True)\n",
    "    \n",
    "    precisions[model_name] = report['weighted avg']['precision']\n",
    "    recalls[model_name] = report['weighted avg']['recall']\n",
    "    f1_scores[model_name] = report['weighted avg']['f1-score'] \n",
    "   \n",
    "    print(f\"{model_name} weighted average precision = {round(precisions[model_name],3)}\")\n",
    "    print(f\"{model_name} weighted average recall = {round(recalls[model_name],3)}\")\n",
    "    print(f\"{model_name} weighted average f1-score = {round(f1_scores[model_name],3)}\\n\")\n",
    "\n",
    "eval_results['precision'] = precisions\n",
    "eval_results['recall'] = recalls\n",
    "eval_results['f1 score'] = f1_scores"
   ]
  }
 ],
 "metadata": {
  "kernelspec": {
   "display_name": "Python 3 (ipykernel)",
   "language": "python",
   "name": "python3"
  },
  "language_info": {
   "codemirror_mode": {
    "name": "ipython",
    "version": 3
   },
   "file_extension": ".py",
   "mimetype": "text/x-python",
   "name": "python",
   "nbconvert_exporter": "python",
   "pygments_lexer": "ipython3",
   "version": "3.11.6"
  },
  "vscode": {
   "interpreter": {
    "hash": "80aa1d3f3a8cfb37a38c47373cc49a39149184c5fa770d709389b1b8782c1d85"
   }
  }
 },
 "nbformat": 4,
 "nbformat_minor": 5
}
